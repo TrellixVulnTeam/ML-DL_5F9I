{
 "cells": [
  {
   "cell_type": "markdown",
   "metadata": {},
   "source": []
  },
  {
   "cell_type": "code",
   "execution_count": 4,
   "metadata": {},
   "outputs": [
    {
     "name": "stdout",
     "output_type": "stream",
     "text": [
      "Sklearn verion is 0.23.1\n"
     ]
    }
   ],
   "source": [
    "import sklearn\n",
    "\n",
    "print(\"Sklearn verion is {}\".format(sklearn.__version__))"
   ]
  },
  {
   "cell_type": "code",
   "execution_count": 3,
   "metadata": {},
   "outputs": [
    {
     "name": "stdout",
     "output_type": "stream",
     "text": [
      "494021\n",
      "(494021, 41)\n",
      "494021\n"
     ]
    },
    {
     "ename": "ValueError",
     "evalue": "invalid literal for int() with base 10: '0.000000000000000000e+00'",
     "output_type": "error",
     "traceback": [
      "\u001b[1;31m---------------------------------------------------------------------------\u001b[0m",
      "\u001b[1;31mValueError\u001b[0m                                Traceback (most recent call last)",
      "\u001b[1;32m<ipython-input-3-06b991626947>\u001b[0m in \u001b[0;36m<module>\u001b[1;34m\u001b[0m\n\u001b[0;32m     36\u001b[0m \u001b[0my\u001b[0m \u001b[1;33m=\u001b[0m \u001b[1;33m[\u001b[0m\u001b[1;33m]\u001b[0m\u001b[1;33m\u001b[0m\u001b[1;33m\u001b[0m\u001b[0m\n\u001b[0;32m     37\u001b[0m \u001b[1;32mfor\u001b[0m \u001b[0mn\u001b[0m \u001b[1;32min\u001b[0m \u001b[0my_label\u001b[0m\u001b[1;33m:\u001b[0m\u001b[1;33m\u001b[0m\u001b[1;33m\u001b[0m\u001b[0m\n\u001b[1;32m---> 38\u001b[1;33m     \u001b[0my\u001b[0m\u001b[1;33m.\u001b[0m\u001b[0mappend\u001b[0m\u001b[1;33m(\u001b[0m\u001b[0mint\u001b[0m\u001b[1;33m(\u001b[0m\u001b[0mn\u001b[0m\u001b[1;33m)\u001b[0m\u001b[1;33m)\u001b[0m\u001b[1;33m\u001b[0m\u001b[1;33m\u001b[0m\u001b[0m\n\u001b[0m\u001b[0;32m     39\u001b[0m \u001b[0my\u001b[0m \u001b[1;33m=\u001b[0m  \u001b[0mnp\u001b[0m\u001b[1;33m.\u001b[0m\u001b[0marray\u001b[0m\u001b[1;33m(\u001b[0m\u001b[0my\u001b[0m\u001b[1;33m,\u001b[0m \u001b[0mdtype\u001b[0m \u001b[1;33m=\u001b[0m \u001b[0mint\u001b[0m\u001b[1;33m)\u001b[0m \u001b[1;31m#list转换数组\u001b[0m\u001b[1;33m\u001b[0m\u001b[1;33m\u001b[0m\u001b[0m\n\u001b[0;32m     40\u001b[0m \u001b[1;33m\u001b[0m\u001b[0m\n",
      "\u001b[1;31mValueError\u001b[0m: invalid literal for int() with base 10: '0.000000000000000000e+00'"
     ]
    }
   ],
   "source": [
    "# -*- coding: utf-8 -*-  \n",
    "import os\n",
    "import csv\n",
    "import numpy as np\n",
    "import pandas as pd\n",
    "from sklearn import metrics\n",
    "import matplotlib.pyplot as plt\n",
    "from matplotlib.colors import ListedColormap\n",
    "from sklearn.model_selection import train_test_split\n",
    "from sklearn.decomposition import PCA\n",
    "from sklearn import neighbors\n",
    "\n",
    "#-----------------------------------------第一步 加载数据集-----------------------------------------\n",
    "fr= open(\"E:/DataSet/KDDCUP99/DataSet/kddcup.data_10_percent/kddcup.data_10_percent_corrected_2csv_2pre.csv\")\n",
    "lines = fr.readlines()\n",
    "line_nums = len(lines)\n",
    "print(line_nums)\n",
    "\n",
    "#创建line_nums行 para_num列的矩阵\n",
    "x_mat = np.zeros((line_nums, 41))\n",
    "y_label = []\n",
    "\n",
    "#划分数据集\n",
    "for i in range(line_nums):\n",
    "    line = lines[i].strip()\n",
    "    item_mat = line.split(',')\n",
    "    x_mat[i,:] = item_mat[0:41]    #前41个特征\n",
    "    y_label.append(item_mat[-1])  #类标\n",
    "    #print (x_mat[i,:])\n",
    "fr.close()\n",
    "print (x_mat.shape)\n",
    "print (len(y_label))\n",
    "\n",
    "\n",
    "#-----------------------------------------第二步 划分数据集-----------------------------------------\n",
    "y = []\n",
    "for n in y_label: \n",
    "    y.append(int(n))\n",
    "y =  np.array(y, dtype = int) #list转换数组\n",
    "\n",
    "#划分数据集 测试集40%\n",
    "train_data, test_data, train_target, test_target = train_test_split(x_mat, y, test_size=0.4, random_state=42)\n",
    "print (train_data.shape, train_target.shape)\n",
    "print (test_data.shape, test_target.shape)\n",
    "\n",
    "\n",
    "#-----------------------------------------第三步 KNN训练-----------------------------------------\n",
    "clf = neighbors.KNeighborsClassifier()\n",
    "clf.fit(train_data, train_target)\n",
    "print (clf)\n",
    "result = clf.predict(test_data)\n",
    "print (result)\n",
    "print (test_target)\n",
    "\n",
    "\n",
    "#-----------------------------------------第四步 评价算法-----------------------------------------\n",
    "print (sum(result==test_target)) #预测结果与真实结果比对\n",
    "print ((metrics.classification_report(test_target, result)))  #准确率 召回率 F值\n",
    "\n",
    "\n",
    "#----------------------------------------第五步 降维可视化---------------------------------------\n",
    "pca = PCA(n_components=2)      \n",
    "newData = pca.fit_transform(test_data)\n",
    "plt.figure()\n",
    "plt.scatter(newData[:,0], newData[:,1], c=test_target, s=50)\n",
    "plt.show()"
   ]
  }
 ],
 "metadata": {
  "kernelspec": {
   "display_name": "Python 3",
   "language": "python",
   "name": "python3"
  },
  "language_info": {
   "codemirror_mode": {
    "name": "ipython",
    "version": 3
   },
   "file_extension": ".py",
   "mimetype": "text/x-python",
   "name": "python",
   "nbconvert_exporter": "python",
   "pygments_lexer": "ipython3",
   "version": "3.7.6"
  },
  "toc": {
   "base_numbering": 1,
   "nav_menu": {},
   "number_sections": true,
   "sideBar": true,
   "skip_h1_title": false,
   "title_cell": "Table of Contents",
   "title_sidebar": "Contents",
   "toc_cell": false,
   "toc_position": {},
   "toc_section_display": true,
   "toc_window_display": false
  }
 },
 "nbformat": 4,
 "nbformat_minor": 4
}
