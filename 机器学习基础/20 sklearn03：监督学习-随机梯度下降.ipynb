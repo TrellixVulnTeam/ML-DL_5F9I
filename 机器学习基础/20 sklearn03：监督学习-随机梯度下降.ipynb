{
 "cells": [
  {
   "cell_type": "markdown",
   "metadata": {},
   "source": [
    "**随机梯度下降(SGD) **是一种简单但又非常高效的方法，主要用于凸损失函数下线性分类器的判别式学习，例如(线性) 支持向量机 和 Logistic 回归 。 尽管 SGD 在机器学习社区已经存在了很长时间, 但是最近在 large-scale learning （大规模学习）方面 SGD 获得了相当大的关注。\n",
    "\n",
    "SGD 已成功应用于在文本分类和自然语言处理中经常遇到的大规模和稀疏的机器学习问题。对于稀疏数据，本模块的分类器可以轻易的处理超过$10^5$ 的训练样本和超过 $10^5$ 的特征。\n",
    "\n",
    "Stochastic Gradient Descent （随机梯度下降法）的**优势**:\n",
    "1)高效。\n",
    "\n",
    "2)易于实现 (有大量优化代码的机会)。\n",
    "\n",
    "Stochastic Gradient Descent （随机梯度下降法）的**劣势**:\n",
    "\n",
    "1)SGD 需要一些超参数，例如 regularization （正则化）参数和 number of iterations （迭代次数）。\n",
    "\n",
    "2)SGD 对 feature scaling （特征缩放）敏感。"
   ]
  },
  {
   "cell_type": "markdown",
   "metadata": {},
   "source": [
    "## 分类\n",
    "警告:\n",
    "\n",
    "在拟合模型前，确保你重新排列了（打乱）你的训练数据，或者使用 shuffle=True 在每次迭代后打乱训练数据。\n",
    "\n",
    "SGDClassifier 类实现了一个简单的随机梯度下降学习例程, 支持分类问题不同的损失函数和正则化方法。"
   ]
  },
  {
   "cell_type": "code",
   "execution_count": 1,
   "metadata": {},
   "outputs": [
    {
     "data": {
      "text/plain": [
       "array([1])"
      ]
     },
     "execution_count": 1,
     "metadata": {},
     "output_type": "execute_result"
    }
   ],
   "source": [
    "from sklearn.linear_model import SGDClassifier\n",
    "X = [[0., 0.], [1., 1.]]\n",
    "y = [0, 1]\n",
    "clf = SGDClassifier(loss=\"hinge\", penalty=\"l2\")\n",
    "clf.fit(X, y)\n",
    "clf.predict([[2., 2.]])"
   ]
  },
  {
   "cell_type": "markdown",
   "metadata": {},
   "source": [
    "SGD 通过训练数据来拟合一个线性模型。成员 **coef_ **保存模型参数,成员 **intercept_** 保存 intercept（截距） （又称作 offset（偏移）或 bias（偏差））:"
   ]
  },
  {
   "cell_type": "code",
   "execution_count": 2,
   "metadata": {},
   "outputs": [
    {
     "data": {
      "text/plain": [
       "(array([[9.85221675, 9.85221675]]), array([-9.99002993]))"
      ]
     },
     "execution_count": 2,
     "metadata": {},
     "output_type": "execute_result"
    }
   ],
   "source": [
    "clf.coef_ ,clf.intercept_ "
   ]
  },
  {
   "cell_type": "markdown",
   "metadata": {},
   "source": [
    "模型是否使用 intercept（截距）, 即 a biased hyperplane(一个偏置的超平面), 是由参数 **fit_intercept **控制的。\n",
    "\n",
    "使用 SGDClassifier.decision_function 来获得到此超平面的 signed distance (符号距离)"
   ]
  },
  {
   "cell_type": "code",
   "execution_count": 3,
   "metadata": {},
   "outputs": [
    {
     "data": {
      "text/plain": [
       "array([29.41883706])"
      ]
     },
     "execution_count": 3,
     "metadata": {},
     "output_type": "execute_result"
    }
   ],
   "source": [
    "clf.decision_function([[2., 2.]])  "
   ]
  },
  {
   "cell_type": "markdown",
   "metadata": {},
   "source": [
    "具体的 **loss function（损失函数）** 可以通过** loss 参数**来设置。 SGDClassifier 支持以下的 loss functions（损失函数）：\n",
    "\n",
    "1）loss=\"hinge\": (soft-margin) linear Support Vector Machine （（软-间隔）线性支持向量机），\n",
    "\n",
    "2）loss=\"modified_huber\": smoothed hinge loss （平滑的 hinge 损失），\n",
    "\n",
    "3）loss=\"log\": logistic regression （logistic 回归），\n",
    "\n",
    "4）and all regression losses below（以及所有的回归损失）。\n",
    "\n",
    "前两个 loss functions（损失函数）是懒惰的，只有一个例子违反了 margin constraint（边界约束），它们才更新模型的参数, 这使得训练非常有效率,即使使用了 L2 penalty（惩罚）我们仍然可能得到稀疏的模型结果。\n",
    "\n",
    "使用 loss=\"log\" 或者 loss=\"modified_huber\" 来启用 predict_proba 方法, 其给出每个样本$x$的概率估计$P(y|x)$的一个向量："
   ]
  },
  {
   "cell_type": "code",
   "execution_count": 4,
   "metadata": {},
   "outputs": [
    {
     "data": {
      "text/plain": [
       "array([[0.00416343, 0.99583657]])"
      ]
     },
     "execution_count": 4,
     "metadata": {},
     "output_type": "execute_result"
    }
   ],
   "source": [
    "clf = SGDClassifier(loss=\"log\").fit(X, y)\n",
    "clf.predict_proba([[1., 1.]])    "
   ]
  },
  {
   "cell_type": "markdown",
   "metadata": {},
   "source": [
    "具体的惩罚方法可以通过** penalty 参数**来设定。 SGD 支持以下 penalties（惩罚）:\n",
    "\n",
    "1)penalty=\"l2\": L2 norm penalty on coef_.\n",
    "\n",
    "2)penalty=\"l1\": L1 norm penalty on coef_.\n",
    "\n",
    "3)penalty=\"elasticnet\": Convex combination of L2 and L1（L2 型和 L1 型的凸组合）; (1 - l1_ratio) * L2 + l1_ratio * L1.\n",
    "\n",
    "**默认设置为 penalty=\"l2\" **。 L1 penalty （惩罚）导致稀疏解，使得大多数系数为零。 Elastic Net（弹性网）解决了在特征高相关时 L1 penalty（惩罚）的一些不足。参数 l1_ratio 控制了 L1 和 L2 penalty（惩罚）的 convex combination （凸组合）。\n",
    "\n",
    "SGDClassifier 通过利用 “one versus all” **（OVA）方法**来组合多个二分类器，从而**实现多分类**。对于每一个$K$类, 可以训练一个二分类器来区分自身和其他$K-1$个类。在测试阶段，我们计算每个分类器的 confidence score（置信度分数）（也就是与超平面的距离），并选择置信度最高的分类。下图阐释了基于 iris（鸢尾花）数据集上的 OVA 方法（示例2）。虚线表示三个 OVA 分类器; 不同背景色代表由三个分类器产生的决策面。"
   ]
  },
  {
   "cell_type": "markdown",
   "metadata": {},
   "source": [
    "示例1：SGD: Maximum margin separating hyperplane,"
   ]
  },
  {
   "cell_type": "code",
   "execution_count": null,
   "metadata": {},
   "outputs": [],
   "source": []
  },
  {
   "cell_type": "code",
   "execution_count": null,
   "metadata": {},
   "outputs": [],
   "source": []
  },
  {
   "cell_type": "code",
   "execution_count": 5,
   "metadata": {},
   "outputs": [
    {
     "name": "stdout",
     "output_type": "stream",
     "text": [
      "Automatically created module for IPython interactive environment\n"
     ]
    },
    {
     "data": {
      "image/png": "[encoded data removed]",
      "text/plain": [
       "<Figure size 432x288 with 1 Axes>"
      ]
     },
     "metadata": {
      "needs_background": "light"
     },
     "output_type": "display_data"
    }
   ],
   "source": [
    "print(__doc__)\n",
    "\n",
    "import numpy as np\n",
    "import matplotlib.pyplot as plt\n",
    "from sklearn.linear_model import SGDClassifier\n",
    "from sklearn.datasets import make_blobs\n",
    "\n",
    "# we create 50 separable points\n",
    "X, Y = make_blobs(n_samples=50, centers=2, random_state=0, cluster_std=0.60)\n",
    "\n",
    "# fit the model\n",
    "clf = SGDClassifier(loss=\"hinge\", alpha=0.01, max_iter=200)\n",
    "\n",
    "clf.fit(X, Y)\n",
    "\n",
    "# plot the line, the points, and the nearest vectors to the plane\n",
    "xx = np.linspace(-1, 5, 10)\n",
    "yy = np.linspace(-1, 5, 10)\n",
    "\n",
    "X1, X2 = np.meshgrid(xx, yy)\n",
    "Z = np.empty(X1.shape)\n",
    "for (i, j), val in np.ndenumerate(X1):\n",
    "    x1 = val\n",
    "    x2 = X2[i, j]\n",
    "    p = clf.decision_function([[x1, x2]])\n",
    "    Z[i, j] = p[0]\n",
    "levels = [-1.0, 0.0, 1.0]\n",
    "linestyles = ['dashed', 'solid', 'dashed']\n",
    "colors = 'k'\n",
    "plt.contour(X1, X2, Z, levels, colors=colors, linestyles=linestyles)\n",
    "plt.scatter(X[:, 0], X[:, 1], c=Y, cmap=plt.cm.Paired,\n",
    "            edgecolor='black', s=20)\n",
    "\n",
    "plt.axis('tight')\n",
    "plt.show()"
   ]
  },
  {
   "cell_type": "markdown",
   "metadata": {},
   "source": [
    "示例2：Plot multi-class SGD on the iris dataset"
   ]
  },
  {
   "cell_type": "code",
   "execution_count": 6,
   "metadata": {},
   "outputs": [
    {
     "name": "stdout",
     "output_type": "stream",
     "text": [
      "Automatically created module for IPython interactive environment\n"
     ]
    },
    {
     "data": {
      "image/png": "[encoded data removed]",
      "text/plain": [
       "<Figure size 432x288 with 1 Axes>"
      ]
     },
     "metadata": {
      "needs_background": "light"
     },
     "output_type": "display_data"
    }
   ],
   "source": [
    "print(__doc__)\n",
    "\n",
    "import numpy as np\n",
    "import matplotlib.pyplot as plt\n",
    "from sklearn import datasets\n",
    "from sklearn.linear_model import SGDClassifier\n",
    "\n",
    "# import some data to play with\n",
    "iris = datasets.load_iris()\n",
    "\n",
    "# we only take the first two features. We could\n",
    "# avoid this ugly slicing by using a two-dim dataset\n",
    "X = iris.data[:, :2]\n",
    "y = iris.target\n",
    "colors = \"bry\"\n",
    "\n",
    "# shuffle\n",
    "idx = np.arange(X.shape[0])\n",
    "np.random.seed(13)\n",
    "np.random.shuffle(idx)\n",
    "X = X[idx]\n",
    "y = y[idx]\n",
    "\n",
    "# standardize\n",
    "mean = X.mean(axis=0)\n",
    "std = X.std(axis=0)\n",
    "X = (X - mean) / std\n",
    "\n",
    "h = .02  # step size in the mesh\n",
    "\n",
    "clf = SGDClassifier(alpha=0.001, max_iter=100).fit(X, y)\n",
    "\n",
    "# create a mesh to plot in\n",
    "x_min, x_max = X[:, 0].min() - 1, X[:, 0].max() + 1\n",
    "y_min, y_max = X[:, 1].min() - 1, X[:, 1].max() + 1\n",
    "xx, yy = np.meshgrid(np.arange(x_min, x_max, h),\n",
    "                     np.arange(y_min, y_max, h))\n",
    "\n",
    "# Plot the decision boundary. For that, we will assign a color to each\n",
    "# point in the mesh [x_min, x_max]x[y_min, y_max].\n",
    "Z = clf.predict(np.c_[xx.ravel(), yy.ravel()])\n",
    "# Put the result into a color plot\n",
    "Z = Z.reshape(xx.shape)\n",
    "cs = plt.contourf(xx, yy, Z, cmap=plt.cm.Paired)\n",
    "plt.axis('tight')\n",
    "\n",
    "# Plot also the training points\n",
    "for i, color in zip(clf.classes_, colors):\n",
    "    idx = np.where(y == i)\n",
    "    plt.scatter(X[idx, 0], X[idx, 1], c=color, label=iris.target_names[i],\n",
    "                cmap=plt.cm.Paired, edgecolor='black', s=20)\n",
    "plt.title(\"Decision surface of multi-class SGD\")\n",
    "plt.axis('tight')\n",
    "\n",
    "# Plot the three one-against-all classifiers\n",
    "xmin, xmax = plt.xlim()\n",
    "ymin, ymax = plt.ylim()\n",
    "coef = clf.coef_\n",
    "intercept = clf.intercept_\n",
    "\n",
    "\n",
    "def plot_hyperplane(c, color):\n",
    "    def line(x0):\n",
    "        return (-(x0 * coef[c, 0]) - intercept[c]) / coef[c, 1]\n",
    "\n",
    "    plt.plot([xmin, xmax], [line(xmin), line(xmax)],\n",
    "             ls=\"--\", color=color)\n",
    "\n",
    "\n",
    "for i, color in zip(clf.classes_, colors):\n",
    "    plot_hyperplane(i, color)\n",
    "plt.legend()\n",
    "plt.show()"
   ]
  },
  {
   "cell_type": "markdown",
   "metadata": {},
   "source": [
    "示例3：SGD: Weighted samples"
   ]
  },
  {
   "cell_type": "code",
   "execution_count": 7,
   "metadata": {},
   "outputs": [
    {
     "name": "stdout",
     "output_type": "stream",
     "text": [
      "Automatically created module for IPython interactive environment\n"
     ]
    },
    {
     "data": {
      "image/png": "[encoded data removed]",
      "text/plain": [
       "<Figure size 432x288 with 1 Axes>"
      ]
     },
     "metadata": {},
     "output_type": "display_data"
    }
   ],
   "source": [
    "print(__doc__)\n",
    "\n",
    "import numpy as np\n",
    "import matplotlib.pyplot as plt\n",
    "from sklearn import linear_model\n",
    "\n",
    "# we create 20 points\n",
    "np.random.seed(0)\n",
    "X = np.r_[np.random.randn(10, 2) + [1, 1], np.random.randn(10, 2)]\n",
    "y = [1] * 10 + [-1] * 10\n",
    "sample_weight = 100 * np.abs(np.random.randn(20))\n",
    "# and assign a bigger weight to the last 10 samples\n",
    "sample_weight[:10] *= 10\n",
    "\n",
    "# plot the weighted data points\n",
    "xx, yy = np.meshgrid(np.linspace(-4, 5, 500), np.linspace(-4, 5, 500))\n",
    "plt.figure()\n",
    "plt.scatter(X[:, 0], X[:, 1], c=y, s=sample_weight, alpha=0.9,\n",
    "            cmap=plt.cm.bone, edgecolor='black')\n",
    "\n",
    "# fit the unweighted model\n",
    "clf = linear_model.SGDClassifier(alpha=0.01, max_iter=100)\n",
    "clf.fit(X, y)\n",
    "Z = clf.decision_function(np.c_[xx.ravel(), yy.ravel()])\n",
    "Z = Z.reshape(xx.shape)\n",
    "no_weights = plt.contour(xx, yy, Z, levels=[0], linestyles=['solid'])\n",
    "\n",
    "# fit the weighted model\n",
    "clf = linear_model.SGDClassifier(alpha=0.01, max_iter=100)\n",
    "clf.fit(X, y, sample_weight=sample_weight)\n",
    "Z = clf.decision_function(np.c_[xx.ravel(), yy.ravel()])\n",
    "Z = Z.reshape(xx.shape)\n",
    "samples_weights = plt.contour(xx, yy, Z, levels=[0], linestyles=['dashed'])\n",
    "\n",
    "plt.legend([no_weights.collections[0], samples_weights.collections[0]],\n",
    "           [\"no weights\", \"with weights\"], loc=\"lower left\")\n",
    "\n",
    "plt.xticks(())\n",
    "plt.yticks(())\n",
    "plt.show()"
   ]
  },
  {
   "cell_type": "markdown",
   "metadata": {},
   "source": [
    "## 回归\n",
    "**SGDRegressor 类**实现了一个简单的随机梯度下降学习例程，它**支持用不同的损失函数和惩罚来拟合线性回归模型**。 SGDRegressor 非常适用于有大量训练样本（>10.000)的回归问题，对于其他问题，我们推荐使用 Ridge ，Lasso ，或 ElasticNet 。\n",
    "\n",
    "具体的损失函数可以通过 loss 参数设置。 SGDRegressor 支持以下的损失函数:\n",
    "\n",
    "1)loss=\"squared_loss\": Ordinary least squares（普通最小二乘法）,\n",
    "\n",
    "2)loss=\"huber\": Huber loss for robust regression（Huber回归）,\n",
    "\n",
    "3)loss=\"epsilon_insensitive\": linear Support Vector Regression（线性支持向量回归）.\n",
    "\n",
    "Huber 和 epsilon-insensitive 损失函数可用于 robust regression（鲁棒回归）。不敏感区域的宽度必须通过参数 epsilon 来设定。这个参数取决于目标变量的规模。\n",
    "\n",
    "SGDRegressor 支持** ASGD（平均随机梯度下降）** 作为 SGDClassifier。 均值化可以通过设置 average=True 来启用。\n",
    "\n",
    "对于利用了 squared loss（平方损失）和 l2 penalty（l2惩罚）的回归，在 Ridge 中提供了另一个采取 averaging strategy（平均策略）的 SGD 变体，其使用了随机平均梯度 (SAG) 算法。"
   ]
  },
  {
   "cell_type": "markdown",
   "metadata": {},
   "source": [
    "## 稀疏数据的随机梯度下降\n",
    "注意\n",
    "\n",
    "由于在截距部分收敛学习速率的差异，稀疏实现与密集实现相比产生的结果略有不同。\n",
    "\n",
    "在 scipy.sparse 支持的格式中，任意矩阵都有对稀疏数据的内置支持方法。但是，为了获得最高的效率，请使用 scipy.sparse.csr_matrix 中定义的** CSR 矩阵格式**.\n",
    "\n",
    "示例:Classification of text documents using sparse features"
   ]
  },
  {
   "cell_type": "markdown",
   "metadata": {},
   "source": [
    "## 停止判据\n",
    "**SGDClassifier和SGDRegressor 类**提供了两个判据，当达到给定的收敛水平时停止算法:\n",
    "\n",
    "1)early_stopping = True时,输入数据分为训练集和验证集。该模型在训练集拟合,停止判据是基于验证集上的预测分数。改变参数validation_fraction可以调整验证集的大小。\n",
    "\n",
    "2)early_stop = False时，模型对整个输入数据进行拟合，停止判据基于整个输入数据上的目标函数来计算。\n",
    "\n",
    "在这两种情况下，判据在每个epoch计算一次，当判据没有改变的次数超过参数n_iter_no_change的值时，算法将停止。改进是用一个容错参数tol来评估的，并且算法在最大迭代次数max_iter之后停止。"
   ]
  },
  {
   "cell_type": "markdown",
   "metadata": {},
   "source": [
    "## 实用小贴士\n",
    "**随机梯度下降法对 feature scaling （特征缩放）很敏感**，因此强烈建议您缩放您的数据。例如，将输入向量 X 上的每个特征缩放到 [0,1] 或 [- 1，+1]， 或将其**标准化**，使其均值为 0，方差为 1。请注意，必须将 **相同** 的缩放应用于对应的测试向量中，以获得有意义的结果。使用 **StandardScaler**能很容易做到这一点："
   ]
  },
  {
   "cell_type": "markdown",
   "metadata": {},
   "source": [
    "from sklearn.preprocessing import StandardScaler\n",
    "\n",
    "scaler = StandardScaler()\n",
    "\n",
    "scaler.fit(X_train) # Don’t cheat - fit only on training data\n",
    "\n",
    "X_train = scaler.transform(X_train)\n",
    "\n",
    "X_test = scaler.transform(X_test) # apply same transformation to test data"
   ]
  },
  {
   "cell_type": "markdown",
   "metadata": {},
   "source": [
    "## 数学描述\n",
    "给定一组训练样本$(x_1,y_1),\\dots,(x_n,y_n)$，其中$x_i\\in R^m$，$y_i\\in \\{-1,1\\}$ ， 我们的目标是一个线性 scoring function（评价函数）$f(x)=w^Tx+b$，其中模型参数$w$，截距$b$。为了做预测， 我们只需要看$f(x)$的符号。找到模型参数的一般选择是通过最小化由以下式子给出的正则化训练误差$$E(w,b)=\\frac{1}{n}\\sum_{i=1}^nL(y_i,f(x_i))+aR(w)$$\n",
    "其中$L$衡量模型(mis)拟合程度的损失函数，$R$是惩罚模型复杂度的正则化项（也叫作惩罚）; $a$ 是一个非负超平面。\n",
    "\n",
    "$L$的不同选择产生**不同的分类器**，例如\n",
    "\n",
    "1)Hinge: (软-间隔) 支持向量机。\n",
    "\n",
    "2)Log: Logistic 回归。\n",
    "\n",
    "3)Least-Squares: 岭回归。\n",
    "\n",
    "4)Epsilon-Insensitive: (软-间隔) 支持向量回归。\n",
    "\n",
    "所有上述损失函数可以看作是错误分类误差的上限（0 - 1损失），如下图所示。\n",
    "\n",
    "**比较流行的正则化项**$R$  包括：\n",
    "\n",
    "1)L2 norm: ,\n",
    "\n",
    "2)L1 norm: , 这导致了稀疏解。\n",
    "\n",
    "3)Elastic Net: , l2和l1的凸组合, 其中 由1 - l1_ratio给出."
   ]
  }
 ],
 "metadata": {
  "kernelspec": {
   "display_name": "Python 3",
   "language": "python",
   "name": "python3"
  },
  "language_info": {
   "codemirror_mode": {
    "name": "ipython",
    "version": 3
   },
   "file_extension": ".py",
   "mimetype": "text/x-python",
   "name": "python",
   "nbconvert_exporter": "python",
   "pygments_lexer": "ipython3",
   "version": "3.7.6"
  },
  "toc": {
   "base_numbering": 1,
   "nav_menu": {},
   "number_sections": true,
   "sideBar": true,
   "skip_h1_title": false,
   "title_cell": "Table of Contents",
   "title_sidebar": "Contents",
   "toc_cell": false,
   "toc_position": {},
   "toc_section_display": true,
   "toc_window_display": false
  }
 },
 "nbformat": 4,
 "nbformat_minor": 4
}
