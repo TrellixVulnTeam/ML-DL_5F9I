{
 "cells": [
  {
   "cell_type": "markdown",
   "metadata": {},
   "source": [
    "**参考：**\n",
    "    \n",
    "    1.Python快速指南- [一小部分Python]：http://swaroopch.com/notes/python/\n",
    "    2.基本的Numpy教程：http://wiki.scipy.org/Tentative_NumPy_Tutorial\n",
    "    3.numpy示例列表：http://wiki.scipy.org/Numpy_Example_List\n",
    "    4.OpenCV文档：http://docs.opencv.org/\n",
    "    5.OpenCV论坛：http://answers.opencv.org/questions/\n",
    "    6.《OpenCV 3计算机视觉 Python语言实现 第二版》**\n",
    "        代码压缩文件：Learning_OpenCV_3_Computer_Vision_with_Python_Second_Edition_Code\n",
    "    7.数据集官网：http://www.image-net.org ,注册信息chenlin2020/jkychenlin，78820232@qq.com\n",
    "\n",
    "在windows10和condamini环境中，查看python版本（如3.7.6），用如下命令之一安装OpenCV3.4版本，如果清华站点没有对应的版本，则根据错误提示选择版本：\n",
    "\n",
    "pip install -i https://pypi.tuna.tsinghua.edu.cn/simple opencv-python==3.4.7.28\n",
    "\n",
    "pip install -i https://pypi.tuna.tsinghua.edu.cn/simple opencv-contrib-python==3.4.7.28\n",
    "\n",
    "两个安装命令区别在于：opencv将目前还不是很稳定的模块功能放在了opencv_contrib。本文使用第二个命令安装不稳定版本。"
   ]
  },
  {
   "cell_type": "code",
   "execution_count": null,
   "metadata": {},
   "outputs": [],
   "source": [
    "import cv2\n",
    "print(cv2.__version__)#显示openCV版本"
   ]
  },
  {
   "cell_type": "markdown",
   "metadata": {},
   "source": [
    "测试安装是否成功："
   ]
  },
  {
   "cell_type": "code",
   "execution_count": null,
   "metadata": {},
   "outputs": [],
   "source": [
    "import numpy as np\n",
    "import cv2\n",
    "import os\n",
    "\n",
    "img1 = cv2.imread(\"./opencv/fdl.jpg\")#默认以BGR三通道形式读取，会删除透明度信息\n",
    "#print(img1.shape)#查看图像信息：（宽、高、通道数）\n",
    "cv2.imshow(\"fdl-color\",img1)\n",
    "cv2.waitKey(0)\n",
    "cv2.destroyAllWindows()"
   ]
  },
  {
   "cell_type": "markdown",
   "metadata": {},
   "source": [
    "OpenCV是计算机视觉中经典的专用库，其支持多语言、跨平台，功能强大。 OpenCV-Python为OpenCV提供了Python接口，使得使用者在Python中能够调用C/C++，在保证易读性和运行效率的前提下，实现所需的功能。 OpenCV-Python Tutorials是官方提供的文档，其内容全面、简单易懂，使得初学者能够快速上手使用。\n",
    "\n",
    "**OpenCV**\n",
    "\n",
    "OpenCV由**Gary Bradsky**于1999年在英特尔创立，第一版于2000年问世。**Vadim Pisarevsky**加入Gary Bradsky，一起管理英特尔的俄罗斯软件OpenCV团队。2005年，OpenCV用于Stanley，该车赢得了2005年DARPA挑战赛的冠军。后来，在Willow Garage的支持下，它的积极发展得以继续，由Gary Bradsky和Vadim Pisarevsky领导了该项目。OpenCV现在支持与计算机视觉和机器学习有关的多种算法，并且正在日益扩展。\n",
    "\n",
    "OpenCV支持多种编程语言，例如C++、Python、Java等，并且可在Windows、Linux、OS X、Android和iOS等不同平台上使用。基于CUDA和OpenCL的高速GPU操作的接口也正在积极开发中。\n",
    "\n",
    "OpenCV-Python是用于OpenCV的Python API，结合了OpenCV C++ API和Python语言的最佳特性。\n",
    "\n",
    "**OpenCV-Python**\n",
    "\n",
    "OpenCV-Python是旨在解决计算机视觉问题的Python专用库。\n",
    "\n",
    "Python是由**Guido van Rossum**发起的通用编程语言，很快就非常流行，主要是因为它的简单性和代码可读性。它使程序员可以用较少的代码行表达想法，而不会降低可读性。\n",
    "\n",
    "与C/C++之类的语言相比，Python速度较慢。也就是说，可以使用C/C++轻松扩展Python，这使我们能够用C/C++编写计算密集型代码并创建可用作Python模块的Python包装器。这给我们带来了两个好处：首先，代码与原始C/C++代码一样快（因为它是在后台运行的实际C++代码），其次，在Python中比C/C++编写代码更容易。OpenCV-Python是原始OpenCV C++实现的Python包装器。\n",
    "\n",
    "OpenCV-Python利用了**Numpy**，这是一个高度优化的库，用于使用MATLAB样式的语法进行数值运算。所有OpenCV数组结构都与Numpy数组相互转换。这也使与使用Numpy的其他库（例如SciPy和Matplotlib）的集成变得更加容易。\n",
    "\n",
    "**OpenCV-Python教程**\n",
    "\n",
    "OpenCV引入了一组新的教程，它们将指导您完成OpenCV-Python中可用的各种功能。本指南主要针对OpenCV 3.x版本（尽管大多数教程也适用于OpenCV 2.x）。\n",
    "\n",
    "建议先了解Python和Numpy，因为本指南将不介绍它们。要使用OpenCV-Python编写优化的代码，必须先明白Numpy。\n",
    "\n",
    "本教程最初由*Abid Rahman K.在*Alexander Mordvintsev*的指导下作为Google Summer of Code 2013计划的一部分*启动。\n"
   ]
  },
  {
   "cell_type": "markdown",
   "metadata": {},
   "source": [
    "# 处理文件、摄像头和用户界面"
   ]
  },
  {
   "cell_type": "markdown",
   "metadata": {},
   "source": [
    "## 图像文件处理\n",
    "学习使用三个函数：cv2.imread()，cv2.imshow()，cv2.imwrite()。\n",
    "\n",
    "cv2.imread()函数读入图像，参数为图像路径、读图像的方式。\n",
    "\n",
    "    cv2.IMREAD_COLOR方式：读入一副彩色图像。图像的透明度会被忽略，这是默认参数。\n",
    "    cv2.IMREAD_GRAYSCALE：以灰度模式读入图像。\n",
    "    cv2.IMREAD_UNCHANGED：读入一幅图像，并且包括图像的 alpha 通道。\n",
    "\n",
    "cv2.imshow()函数显示图像，窗口会自动调整为图像大小。第一个参数为窗口的名字，其次才是需要显示的图像。一次可以创建多个窗口，在不同的窗口显示不同的图像。\n",
    "\n",
    "cv2.imwrite()函数将图像写入磁盘。两个参数分别路径和图像。"
   ]
  },
  {
   "cell_type": "code",
   "execution_count": null,
   "metadata": {},
   "outputs": [],
   "source": [
    "#import numpy as np\n",
    "import cv2\n",
    "#在下面添加此代码以显示单元格中的所有输出\n",
    "from IPython.core.interactiveshell import InteractiveShell \n",
    "InteractiveShell.ast_node_interactivity=\"all\"\n",
    "\n",
    "#下面两行，手动增加中文字体\n",
    "from pylab import *\n",
    "mpl.rcParams['font.sans-serif'] = ['SimHei']\n",
    "\n",
    "img1= cv2.imread('./opencv/fdl.jpg')\n",
    "img2= cv2.imread('./opencv/fdl.jpg',cv2.IMREAD_GRAYSCALE)\n",
    "cv2.imshow(\"fdl-color\",img1)\n",
    "cv2.imshow(\"fdl-gray\",img2)\n",
    "\n",
    "k=cv2.waitKey(0)\n",
    "if k == ord('s'): # wait for 's' key to save and exit\n",
    "    cv2.imwrite('./opencv/fdl-bak.jpg',img1)\n",
    "cv2.destroyAllWindows()"
   ]
  },
  {
   "cell_type": "markdown",
   "metadata": {},
   "source": [
    "cv2.waitKey() 是一个键盘绑定函数。参数是时间，单位是毫秒级。函数等待特定的几毫秒，看是否有键盘输入，如果按下任意键，函数返回按键的 ASCII 码值，程序将会继续运行。如果没有键盘输入，返回值为 -1。如果参数为 0，那它将会无限期的等待键盘输入。\n",
    "\n",
    "cv2.destroyAllWindows() 可以轻易删除任何我们建立的窗口。如果你想删除特定的窗口，指定想删除的窗口名。\n",
    "\n",
    "也可以使用matplotlib绘图库显示图像，显示图像，并将图像的信息打印出来。"
   ]
  },
  {
   "cell_type": "code",
   "execution_count": null,
   "metadata": {},
   "outputs": [],
   "source": [
    "from matplotlib import pyplot as plt\n",
    "#plt.imshow(img2)\n",
    "#plt.imshow(img1,cmap='gray')\n",
    "#plt.imshow(img1, cmap = 'gray', interpolation = 'bicubic'),plt.title(U'费德勒')#显示灰色图\n",
    "img3=cv2.cvtColor(img1, cv2.COLOR_BGR2RGB)\n",
    "\n",
    "#plt.xticks([]), plt.yticks([])  # 隐藏 x 轴和 y 轴上的刻度值\n",
    "\n",
    "plt.subplot(131)\n",
    "plt.imshow(img1)\n",
    "plt.title(\"BGR\")\n",
    "plt.subplot(132)\n",
    "plt.imshow(img2,cmap='gray')\n",
    "plt.title('Gray')\n",
    "plt.subplot(133)\n",
    "plt.imshow(img3)#默认GRB\n",
    "plt.title('RGB')\n",
    "\n",
    "plt.show()#最终显示图像。否则，可能显示的顺序不对\n",
    "\n",
    "img3.shape#查看图像信息：（宽、高、通道数）\n",
    "img3.size#查看图像信息：（图像像素的大小）\n",
    "img3.dtype#查看图像信息：（图像数据类型）。通常位无符号整型"
   ]
  },
  {
   "cell_type": "markdown",
   "metadata": {},
   "source": [
    "cmap: 颜色图谱（colormap), 默认绘制为RGB(A)颜色空间。\n",
    "\n",
    "OpenCV加载的彩色图像处于BGR模式。但是Matplotlib以RGB模式显示。因此，如果使用OpenCV读取彩色图像，则Matplotlib中将无法正确显示彩色图像。"
   ]
  },
  {
   "cell_type": "markdown",
   "metadata": {},
   "source": [
    "图像与原始字节之间的转换。对于二维的灰度图像和三维的BGR图像，可以使用表达式如img[0,0]或者img[0,0,0]访问图像值。其中，参数顺序是y值、x值、颜色通道。\n",
    "\n",
    "一幅图像的每个通道为8位，则可以将其转换位标准的一维python bytearray格式："
   ]
  },
  {
   "cell_type": "code",
   "execution_count": null,
   "metadata": {},
   "outputs": [],
   "source": [
    "byteArray=bytearray(img2)#转化成一维的bytearray格式"
   ]
  },
  {
   "cell_type": "code",
   "execution_count": null,
   "metadata": {},
   "outputs": [],
   "source": [
    "import numpy as np\n",
    "import cv2\n",
    "import os\n",
    "#一定格式的bytearry转化成图像的例子\n",
    "#120000比特的随机数列\n",
    "randomByteArray=bytearray(os.urandom(120000))\n",
    "flatNumpyArray=np.array(randomByteArray)\n",
    "\n",
    "#将单列矩阵转化为400*300灰度图\n",
    "grayImage=flatNumpyArray.reshape(300,400)#注意这里是300行400列的图，即长400宽300\n",
    "cv2.imwrite('./opencv/RandomGray.png',grayImage)\n",
    "\n",
    "#将此矩阵转化为400*100的三通道彩色图\n",
    "bgrImage=flatNumpyArray.reshape(100,400,3)\n",
    "#cv2.imshow(\"BGR\",bgrImage)\n",
    "cv2.imwrite('./opencv/bgrImage.png',bgrImage)\n",
    "\n",
    "#正常简要的随机生成的语句\n",
    "grayImage_2=np.random.randint(0,256,120000).reshape(300,400)\n",
    "#cv2.imshow(\"Gray\",bgrImage)\n",
    "cv2.imwrite('./opencv/RandomGray_2.png',grayImage_2)\n"
   ]
  },
  {
   "cell_type": "code",
   "execution_count": null,
   "metadata": {},
   "outputs": [],
   "source": [
    "#获取和改变图单一通道\n",
    "img= cv2.imread('./opencv/person.png')\n",
    "\n",
    "img[:,:,1]=255#图片所有行和列的1（第二）通道，即路色通道的值设置为255，BGR是0，0，255就是绿色\n",
    "\n",
    "plt.imshow(img)#得到全绿色的图\n"
   ]
  },
  {
   "cell_type": "markdown",
   "metadata": {},
   "source": [
    "numpy.array的item函数获取一个特定位置像素的值。itemset()函数设置指定位置的值。"
   ]
  },
  {
   "cell_type": "code",
   "execution_count": null,
   "metadata": {},
   "outputs": [],
   "source": [
    "print(img.item(100,20,0))#获得（100，20）位置的值\n",
    "img.itemset((100,20,0),255)#改变值\n",
    "print(img.item(100,20,0))#获得（100，20）位置的值"
   ]
  },
  {
   "cell_type": "markdown",
   "metadata": {},
   "source": [
    "这种方法时只能处理特定的小区域，对于视频数据，是高代价的低效操作。使用数组和索引可以高效操作图像，如上的img[:,:,1]=255语句，将图像所有的G（绿色）设置位0。\n",
    "\n",
    "使用numpy的数组，可以图像的区域进行操作，如下复制一个图像的区域到另外一个位置。"
   ]
  },
  {
   "cell_type": "code",
   "execution_count": null,
   "metadata": {
    "scrolled": true
   },
   "outputs": [],
   "source": [
    "my_rio=img[75:115,20:50]#复制区域\n",
    "img[120:160,75:105]=my_rio#确保两个区域大小一样，否则不匹配\n",
    "plt.imshow(img)"
   ]
  },
  {
   "cell_type": "markdown",
   "metadata": {},
   "source": [
    "## 视频文件读写"
   ]
  },
  {
   "cell_type": "markdown",
   "metadata": {},
   "source": [
    "通常情况下，我们必须用摄像机捕捉实时画面。\n",
    "\n",
    "设备索引就是指定哪个摄像头的数字。正常情况下，一个摄像头会被连接。在此之后，你可以逐帧捕获。想要保存这个视频。对于图像，它非常简单，只需使用 cv.imwrite()。这里还需要做一些工作。\n",
    "\n",
    "OpenCV的VideoCapture和VideoWriter类支持各种格式的视频文件。要捕获视频，你需要创建一个 VideoCapture 对象。它的参数可以是设备索引或视频文件的名称，之后，使用get()方法获得视频每一帧的指定信息，比如图像的宽和高。类似地，有set()方法设置帧的宽和高。\n",
    "\n",
    "VideoCapture类的read()函数获取新的帧，直到视频文件的末尾，每一帧都是一幅基于BGR格式的图像。read() 返回一个布尔值（True/False），如果帧读取的是正确的，就是 True。所以可以通过检查他的返回值来查看视频文件是否已经到了结尾。\n",
    "\n",
    "**VideoWriter类**写视频到文件，一个常用构造方式如下：\n",
    "\n",
    "**VideoWriter(const string& filename, int fourcc, double fps,Size frameSize, bool isColor=true);**\n",
    "\n",
    "**filename** 输出视频文件名。\n",
    "\n",
    "其中**fourcc**代表了所使用的编码方式，如果输入-1，则会在运行时候弹出选择对话框，可以选择编码器。fourcc为四个字符用来表示压缩帧的codec 例如：\n",
    "CV_FOURCC('P','I','M','1') = MPEG-1 codec\n",
    "\n",
    "CV_FOURCC('M','J','P','G') = motion-jpeg codec\n",
    "\n",
    "CV_FOURCC('M', 'P', '4', '2') = MPEG-4.2 codec\n",
    "\n",
    "CV_FOURCC('D', 'I', 'V', '3') = MPEG-4.3 codec\n",
    "\n",
    "CV_FOURCC('D', 'I', 'V', 'X') = MPEG-4 codec\n",
    "\n",
    "CV_FOURCC('U', '2', '6', '3') = H263 codec\n",
    "\n",
    "CV_FOURCC('I', '2', '6', '3') = H263I codec\n",
    "\n",
    "CV_FOURCC('F', 'L', 'V', '1') = FLV1 codec\n",
    "\n",
    "**fps** 被创建视频流的帧率。\n",
    "**frame_size** 保存视频的宽和高。\n",
    "**isColor**如果非零，编码器将希望得到彩色帧并进行编码；否则，是灰度帧（只有在Windows下支持这个标志）。"
   ]
  },
  {
   "cell_type": "code",
   "execution_count": null,
   "metadata": {},
   "outputs": [],
   "source": [
    "#读取avi文件，并用YUV编码写入另一个帧中\n",
    "import cv2\n",
    "\n",
    "videoCapture=cv2.VideoCapture('./opencv/boxed-split.avi')\n",
    "fps=videoCapture.get(cv2.CAP_PROP_FPS)#获得帧速率\n",
    "size=(int(videoCapture.get(cv2.CAP_PROP_FRAME_WIDTH)),int(videoCapture.get(cv2.CAP_PROP_FRAME_HEIGHT)))\n",
    "videoWriter=cv2.VideoWriter('./opencv/boxed-splitOUT.avi',cv2.VideoWriter_fourcc('I','4','2','0'),fps,size)#输出名字，编码格式，帧速率，大小（宽高）\n",
    "\n",
    "success,frame=videoCapture.read()#读取视频帧\n",
    "#接下加载直到没有视频帧\n",
    "while success:\n",
    "    videoWriter.write(frame)#用设定好的编译器写入帧到输出文件\n",
    "    success,frame=videoCapture.read()#读取下一帧，当没有帧时候success为0，退出循环"
   ]
  },
  {
   "cell_type": "markdown",
   "metadata": {},
   "source": [
    "备注：\n",
    "\n",
    "生成文件占用空间最小的编码方式是MPEG-4.2 codec。在VideoWriter类的构造函数参数为CV_FOURCC('M', 'P', '4', '2') 。最大的是MPEG-1 codec，对应在VideoWriter类的构造函数参数为CV_FOURCC('P','I','M','1') ，所占磁盘空间是前者的5.7倍。所以如果需要24小时全天候录制监控，可以优先使用MPEG-4.2的编解码方式。\n",
    "\n",
    "VideoCapture类还可以捕获摄像头的帧流，此时使用的参数为设备索引，而不是文件名。如捕获摄像头10秒，代码如下，按下\"q\"则退出："
   ]
  },
  {
   "cell_type": "code",
   "execution_count": null,
   "metadata": {},
   "outputs": [],
   "source": [
    "import cv2\n",
    "\n",
    "cameraCapture=cv2.VideoCapture(0)#索引为0，标准摄像头\n",
    "fps=30#假设为30\n",
    "size=(int(cameraCapture.get(cv2.CAP_PROP_FRAME_WIDTH)),int(cameraCapture.get(cv2.CAP_PROP_FRAME_HEIGHT)))\n",
    "videoWriter=cv2.VideoWriter('./opencv/MyVideoOut.avi',cv2.VideoWriter_fourcc('M','P','4','2'),fps,size)\n",
    "success,frame=cameraCapture.read()\n",
    "\n",
    "numFramesRemaining=10*fps-1#一秒30帧，读10秒\n",
    "while success and numFramesRemaining>0:\n",
    "    if cv2.waitKey(1) &0xFF == ord('q'):             # 按q停止\n",
    "        break   \n",
    "    videoWriter.write(frame)\n",
    "    success,frame=cameraCapture.read()\n",
    "    numFramesRemaining-=1\n",
    "\n",
    "cameraCapture.release()\n",
    "cv2.destroyAllWindows()"
   ]
  },
  {
   "cell_type": "markdown",
   "metadata": {},
   "source": [
    "## 在窗口显示图像"
   ]
  },
  {
   "cell_type": "markdown",
   "metadata": {},
   "source": [
    "很自然地，imshow()函数显示图像，参数有两个：显示图像的帧名称和要显示的图像本身。destroyAllWindows()函数释放由OpenCV创建的所有窗口。而namedWindows()函数用来创建指定窗口名字的显示窗口，waitKey()的参数为等待键盘触发的时间，单位为毫秒，其它返回值是-1（表示没有健被按下）或者ASCII码。\n",
    "\n",
    "在窗口中可以捕获鼠标信息，如下代码中setMouseCallback()是鼠标回调函数，在onMove()函数捕获了EVENT_LBUTTONUP信息，也可以捕获其它信息。"
   ]
  },
  {
   "cell_type": "code",
   "execution_count": 2,
   "metadata": {},
   "outputs": [
    {
     "name": "stdout",
     "output_type": "stream",
     "text": [
      "展示摄像机流，点击屏幕或者任意键停止\n",
      "clicked False\n"
     ]
    }
   ],
   "source": [
    "import cv2\n",
    "\n",
    "clicked=False\n",
    "def onMouse(event,x,y,flags,param):\n",
    "    global clicked\n",
    "    if event==cv2.EVENT_LBUTTONUP:#捕获鼠标键\n",
    "        clicked=True\n",
    "\n",
    "cameraCapture=cv2.VideoCapture(0)\n",
    "fps=30#假设为30\n",
    "size=(int(cameraCapture.get(cv2.CAP_PROP_FRAME_WIDTH)),int(cameraCapture.get(cv2.CAP_PROP_FRAME_HEIGHT)))\n",
    "videoWriter=cv2.VideoWriter('./opencv/MyVideoOut1.avi',cv2.VideoWriter_fourcc('M','P','4','2'),fps,size)\n",
    "cv2.namedWindow('NewWindow')\n",
    "cv2.setMouseCallback('My',onMouse)\n",
    "print('展示摄像机流，点击屏幕或者任意键停止')\n",
    "\n",
    "success,frame=cameraCapture.read()\n",
    "while success and cv2.waitKey(1)==-1 and not clicked:\n",
    "    cv2.imshow('NewWindow',frame)\n",
    "    videoWriter.write(frame)\n",
    "    success,frame=cameraCapture.read()\n",
    "\n",
    "print('clicked',clicked)\n",
    "cv2.destroyWindow('NewWindow')\n",
    "cameraCapture.release()\n"
   ]
  },
  {
   "cell_type": "markdown",
   "metadata": {},
   "source": [
    "## OpenCV中的绘图函数\n",
    "绘图函数有cv2.line()，cv2.circle()，cv2.rectangle()，cv2.ellipse()，cv2.putText() 等。这些绘图函数都需要设置下面的参数：\n",
    "\n",
    "\n",
    "    img：你想要绘制图形的那幅图像。\n",
    "    color：形状的颜色。以 RGB 为例，需要传入一个元组，例如：（255,0,0）代表蓝色。对于灰度图只需要传入灰度值。\n",
    "    thickness：线条的粗细。如果给一个闭合图形设置为 -1，那么这个图形就会被填充。默认值是 1。\n",
    "    linetype：线条的类型，8 连接，抗锯齿等。默认情况是 8 连接。cv2.LINE_AA为抗锯齿，这样看起来会非常平滑。"
   ]
  },
  {
   "cell_type": "code",
   "execution_count": null,
   "metadata": {},
   "outputs": [],
   "source": [
    "import numpy as np\n",
    "import cv2\n",
    "\n",
    "# Create a black image\n",
    "img=np.zeros((512,512,3), np.uint8)\n",
    "\n",
    "DrawWin=\"Draw\"\n",
    "cv2.namedWindow(DrawWin)\n",
    "\n",
    "cv2.line(img,(0,0),(200,200),(127,255,0),5)\n",
    "cv2.rectangle(img,(20,20),(200,120),(0,255,0),3)\n",
    "cv2.circle(img,(140,60), 63, (0,0,255), -1)\n",
    "cv2.ellipse(img,(200,200),(100,50),0,0,180,255,-1)#在图片中绘制半个椭圆。\n",
    "\n",
    "pts=np.array([[10,5],[20,30],[70,20],[50,10]], np.int32)\n",
    "pts=pts.reshape((-1,1,2))\n",
    "# 这里 reshape 的第一个参数为-1, 表明这一维的长度是根据后面的维度的计算出来的。\n",
    "#cv2.polylines(img,pts)\n",
    "\n",
    "font=cv2.FONT_HERSHEY_SIMPLEX\n",
    "cv2.putText(img,'OpenCV',(10,500), font, 4,(255,255,255),2)\n",
    "\n",
    "cv2.imshow(DrawWin,img)\n",
    "k=cv2.waitKey(0)\n",
    "cv2.destroyAllWindows()"
   ]
  }
 ],
 "metadata": {
  "kernelspec": {
   "display_name": "Python 3",
   "language": "python",
   "name": "python3"
  },
  "language_info": {
   "codemirror_mode": {
    "name": "ipython",
    "version": 3
   },
   "file_extension": ".py",
   "mimetype": "text/x-python",
   "name": "python",
   "nbconvert_exporter": "python",
   "pygments_lexer": "ipython3",
   "version": "3.7.6"
  },
  "toc": {
   "base_numbering": 1,
   "nav_menu": {},
   "number_sections": true,
   "sideBar": true,
   "skip_h1_title": false,
   "title_cell": "Table of Contents",
   "title_sidebar": "Contents",
   "toc_cell": false,
   "toc_position": {},
   "toc_section_display": true,
   "toc_window_display": false
  }
 },
 "nbformat": 4,
 "nbformat_minor": 4
}
