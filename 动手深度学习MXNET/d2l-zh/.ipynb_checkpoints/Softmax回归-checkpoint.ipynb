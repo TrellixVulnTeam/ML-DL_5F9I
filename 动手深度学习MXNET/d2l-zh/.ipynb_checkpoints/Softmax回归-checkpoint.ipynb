{
 "cells": [
  {
   "cell_type": "markdown",
   "metadata": {},
   "source": [
    "# Sofumax回归"
   ]
  },
  {
   "cell_type": "markdown",
   "metadata": {},
   "source": [
    "线性回归模型适⽤于输出为连续值的情景。\n",
    "使⽤分类模型，softmax 回归的输出单元从⼀个变成了多个。本节以 softmax 回归模型为例，介\n",
    "绍神经⽹络中的分类模型。**Softmax 回归是⼀个单层神经⽹络**。"
   ]
  },
  {
   "cell_type": "markdown",
   "metadata": {},
   "source": [
    "**分类问题**\n",
    "让我们考虑⼀个简单的图⽚分类问题。图⽚的尺⼨记作 m × n 或 (m, n)。也就是说，假设输⼊图⽚的尺⼨为 2 × 2。设图⽚的四个特征值，即像素值分别为 x1, x2, x3, x4。假设训练数据集中图⽚的真实标签为狗、猫或鸡，这些标签分别对应离散值 y1, y2, y3。举个例⼦，如果 y1 = 0, y2 = 1, y3 = 2，任意⼀张狗的图⽚的标签记作 0。在这个分类问题中，输⼊⼀张图⽚的四个特征值，我们需要输出该图⽚的类别。\n",
    "\n",
    "设带下标的 w 和 b 分别为 softmax 回归的权重和偏差参数。给定单个图⽚的输⼊特征\n",
    "x1, x2, x3, x4，有关三个不同标签的输出分别为\n",
    "![jupyter](./3-1.png)\n",
    "下图⽤神经⽹络图描绘了上⾯的计算。\n",
    "![jupyter](./3-2.png)"
   ]
  },
  {
   "cell_type": "markdown",
   "metadata": {},
   "source": [
    "在得到输出层的三个输出后，我们需要预测输出分别为狗、猫或鸡的概率，即各个类别的预测概\n",
    "率。不妨设它们分别为 $\\hat y_1,\\hat y_2,\\hat y_3$。下⾯，我们通过对 o1, o2, o3 做oftmax 运算，得到模型对各个类别的预测概率\n",
    "![jupyter](./3-3.png)\n",
    "![jupyter](./3-4.png)\n",
    "![jupyter](./3-5.png)"
   ]
  },
  {
   "cell_type": "markdown",
   "metadata": {},
   "source": [
    "**⼩批量样本分类的⽮量计算表达式**\n",
    "为了进⼀步提升计算效率，我们通常**对小批量数据做⽮量计算**。⼴义上，给定⼀个小批量样本，\n",
    "其批量⼤小为 $n$，输⼊个数（特征数）为 $d$，输出个数（类别数）为 $q$。设批量特征为$ X\\in R^{n×d}$，批量标签 $y\\in R{n×1}$。假设 softmax 回归的权重和偏差参数分别为$W\\in R{d×q}, b\\in R{1×q}$。Softmax回归的⽮量计算表达式为$$O = XW + b$$$$\\hat Y = softmax(O)$$其中的加法运算使⽤了⼴播机制，$O,Y\\in R{n×q}$, 且这两个矩阵的第 $i$ ⾏分别为 $o^{(i)} 和\\hat y^{(i)}$。"
   ]
  },
  {
   "cell_type": "markdown",
   "metadata": {},
   "source": [
    "**交叉熵损失函数**![jupyter](./3-6.png) ![jupyter](./3-7.png)"
   ]
  },
  {
   "cell_type": "markdown",
   "metadata": {},
   "source": [
    "**模型预测及评价**\n",
    "在训练好 softmax 回归模型后，给定任⼀样本特征，我们可以预测每个输出类别的概率。通常，\n",
    "我们把预测概率最⼤的类别作为输出类别。如果它与真实类别（标签）⼀致，说明这次预测是正\n",
    "确的。在下⼀节的实验中，我们将使⽤**准确率（accuracy）**来评价模型的表现。它等于正确预测数量与总预测数量的⽐。"
   ]
  },
  {
   "cell_type": "markdown",
   "metadata": {},
   "source": [
    "# Sofumax回归从零实现"
   ]
  },
  {
   "cell_type": "code",
   "execution_count": null,
   "metadata": {},
   "outputs": [],
   "source": [
    "#导⼊实验所需的包或模块。\n",
    "import sys\n",
    "sys.path.insert(0, '..')\n",
    "\n",
    "from mxnet import autograd, nd\n",
    "from mxnet.gluon import data as gdata\n",
    "\n",
    "import sys\n",
    "import gluonbook as gb"
   ]
  },
  {
   "cell_type": "code",
   "execution_count": null,
   "metadata": {},
   "outputs": [],
   "source": [
    "#通过 Gluon 的 data 包来下载这个数据集。\n",
    "mnist_train = gdata.vision.FashionMNIST(train=True)\n",
    "mnist_test = gdata.vision.FashionMNIST(train=False)"
   ]
  },
  {
   "cell_type": "code",
   "execution_count": null,
   "metadata": {},
   "outputs": [],
   "source": [
    "#获取第⼀个样本和图⽚和标签。\n",
    "feature, label = mnist_train[0]\n",
    "feature.shape, feature.dtype"
   ]
  },
  {
   "cell_type": "code",
   "execution_count": null,
   "metadata": {},
   "outputs": [],
   "source": [
    "def show_fashion_imgs(images):\n",
    "    _, figs = gb.plt.subplots(1, len(images), figsize=(15, 15))\n",
    "    for f, img in zip(figs, images):\n",
    "        f.imshow(img.reshape((28, 28)).asnumpy())\n",
    "        f.axes.get_xaxis().set_visible(False)\n",
    "        f.axes.get_yaxis().set_visible(False)\n",
    "    gb.plt.show()"
   ]
  },
  {
   "cell_type": "markdown",
   "metadata": {},
   "source": [
    "# Sofumax回归Gluon实现"
   ]
  }
 ],
 "metadata": {
  "kernelspec": {
   "display_name": "Python 3",
   "language": "python",
   "name": "python3"
  },
  "language_info": {
   "codemirror_mode": {
    "name": "ipython",
    "version": 3
   },
   "file_extension": ".py",
   "mimetype": "text/x-python",
   "name": "python",
   "nbconvert_exporter": "python",
   "pygments_lexer": "ipython3",
   "version": "3.7.6"
  },
  "toc": {
   "base_numbering": 1,
   "nav_menu": {},
   "number_sections": true,
   "sideBar": true,
   "skip_h1_title": false,
   "title_cell": "Table of Contents",
   "title_sidebar": "Contents",
   "toc_cell": false,
   "toc_position": {},
   "toc_section_display": true,
   "toc_window_display": false
  }
 },
 "nbformat": 4,
 "nbformat_minor": 4
}
