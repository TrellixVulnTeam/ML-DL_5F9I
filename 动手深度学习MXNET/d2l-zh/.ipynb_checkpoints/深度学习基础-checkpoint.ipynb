{
 "cells": [
  {
   "cell_type": "markdown",
   "metadata": {},
   "source": [
    "# 深度学习基础知识\n",
    "## 数据操作"
   ]
  },
  {
   "cell_type": "markdown",
   "metadata": {},
   "source": [
    "在深度学习中，我们通常会频繁地对数据进⾏操作。作为动⼿学深度学习的基础，本节将介绍如何对内存中的数据进⾏操作。\n",
    "在 MXNet 中，NDArray 是存储和变换数据的主要⼯具。如果你之前⽤过 NumPy，你会发现 NDArray 和 NumPy 的多维数组⾮常类似。然而，NDArray 提供诸如 GPU 计算和⾃动求导在内的更多功能。这些都使得 NDArray 更加适合深度学习。"
   ]
  },
  {
   "cell_type": "markdown",
   "metadata": {},
   "source": [
    "### 创建 NDArray"
   ]
  },
  {
   "cell_type": "markdown",
   "metadata": {},
   "source": [
    "NDArray 是 MXNet 中存储和变换数据的主要⼯具，我们先介绍 NDArray 的最基本功能。"
   ]
  },
  {
   "cell_type": "code",
   "execution_count": 1,
   "metadata": {},
   "outputs": [
    {
     "data": {
      "text/plain": [
       "\n",
       "[0. 1. 2. 3. 4. 5. 6. 7. 8. 9.]\n",
       "<NDArray 10 @cpu(0)>"
      ]
     },
     "execution_count": 1,
     "metadata": {},
     "output_type": "execute_result"
    }
   ],
   "source": [
    "from mxnet import nd\n",
    "x=nd.arange(10)\n",
    "x"
   ]
  },
  {
   "cell_type": "markdown",
   "metadata": {},
   "source": [
    "如果出现错误，则提示错误信息ModuleNotFoundError表示，mxnet模块没有安装，Mxnet 是一个深度学习框架,以效率高著称。需要在anaconda3中的命令提示窗口运行pip install mxnet命令。mxnet模块只支持CPU计算，而不支持GPU计算。如果你的电脑上有 Nvidia 显卡并安装了 CUDA，建议使⽤ GPU 版的 MXNet，conda进行安装命令为conda install -c anaconda mxnet-gpu。\n",
    "若环境正常，mxnet模块存在，则上述执行结果返回⼀个 NDArray 实例，⾥⾯⼀共包含从 0 开始的 10 个连续整数。从打印 x 时显⽰的属性<NDArray 10 @cpu(0)> 可以看到，它是⻓度为 10 的⼀维数组，且被创建在 CPU 主内存上，CPU ⾥⾯的 0 没有特别的意义。\n",
    "可以通过 shape 属性来获取 NDArray 实例形状。"
   ]
  },
  {
   "cell_type": "code",
   "execution_count": 2,
   "metadata": {},
   "outputs": [
    {
     "data": {
      "text/plain": [
       "(10,)"
      ]
     },
     "execution_count": 2,
     "metadata": {},
     "output_type": "execute_result"
    }
   ],
   "source": [
    "x.shape"
   ]
  },
  {
   "cell_type": "markdown",
   "metadata": {},
   "source": [
    "通过 size 属性得到 NDArray 实例中元素的总数。"
   ]
  },
  {
   "cell_type": "code",
   "execution_count": 3,
   "metadata": {},
   "outputs": [
    {
     "data": {
      "text/plain": [
       "10"
      ]
     },
     "execution_count": 3,
     "metadata": {},
     "output_type": "execute_result"
    }
   ],
   "source": [
    "x.size"
   ]
  },
  {
   "cell_type": "markdown",
   "metadata": {},
   "source": [
    "使⽤ reshape 函数把向量 x 的形状改为（2，5），也就是⼀个 2 ⾏ 5 列的矩阵。"
   ]
  },
  {
   "cell_type": "code",
   "execution_count": 4,
   "metadata": {},
   "outputs": [
    {
     "data": {
      "text/plain": [
       "\n",
       "[[0. 1. 2. 3. 4.]\n",
       " [5. 6. 7. 8. 9.]]\n",
       "<NDArray 2x5 @cpu(0)>"
      ]
     },
     "execution_count": 4,
     "metadata": {},
     "output_type": "execute_result"
    }
   ],
   "source": [
    "x = x.reshape((2,5))\n",
    "x"
   ]
  },
  {
   "cell_type": "markdown",
   "metadata": {},
   "source": [
    "除了形状改变之外，x 中的元素保持不变。\n",
    "x 属性中的形状发⽣了变化。上⾯ x.reshape((2, 5)) 也可写成 x.reshape((-1,5)) 或 x.reshape((2, -1))。由于 x 的元素个数是已知的，-1表明通过元素个数和其他维度的⼤小推断。\n",
    "接下来，我们创建⼀个各元素为 0，形状为（2，3，4）的张量。实际上，之前创建的向量和矩阵都是特殊的张量。张量这一术语起源于力学，它最初是用来表示弹性介质中各点应力状态的，数学上，张量概念是矢量概念的推广，如矢量就是一阶张量，本例可以理解为2个3*4矩阵。"
   ]
  },
  {
   "cell_type": "code",
   "execution_count": 5,
   "metadata": {},
   "outputs": [
    {
     "data": {
      "text/plain": [
       "\n",
       "[[[0. 0. 0. 0.]\n",
       "  [0. 0. 0. 0.]\n",
       "  [0. 0. 0. 0.]]\n",
       "\n",
       " [[0. 0. 0. 0.]\n",
       "  [0. 0. 0. 0.]\n",
       "  [0. 0. 0. 0.]]]\n",
       "<NDArray 2x3x4 @cpu(0)>"
      ]
     },
     "execution_count": 5,
     "metadata": {},
     "output_type": "execute_result"
    }
   ],
   "source": [
    "nd.zeros((2, 3, 4))"
   ]
  },
  {
   "cell_type": "markdown",
   "metadata": {},
   "source": [
    "类似地，我们可以创建各元素为 1 的张量。"
   ]
  },
  {
   "cell_type": "code",
   "execution_count": 6,
   "metadata": {},
   "outputs": [
    {
     "data": {
      "text/plain": [
       "\n",
       "[[1. 1. 1. 1.]\n",
       " [1. 1. 1. 1.]\n",
       " [1. 1. 1. 1.]]\n",
       "<NDArray 3x4 @cpu(0)>"
      ]
     },
     "execution_count": 6,
     "metadata": {},
     "output_type": "execute_result"
    }
   ],
   "source": [
    "nd.ones((3, 4))"
   ]
  },
  {
   "cell_type": "markdown",
   "metadata": {},
   "source": [
    "我们也可以通过 Python 的列表（list）指定需要创建的 NDArray 中每个元素的值。[]符号里面的若干数字表示一个列表，列表是可以嵌套的。"
   ]
  },
  {
   "cell_type": "code",
   "execution_count": 7,
   "metadata": {},
   "outputs": [
    {
     "data": {
      "text/plain": [
       "\n",
       "[[1. 2. 3. 4. 5.]\n",
       " [5. 4. 3. 2. 1.]]\n",
       "<NDArray 2x5 @cpu(0)>"
      ]
     },
     "execution_count": 7,
     "metadata": {},
     "output_type": "execute_result"
    }
   ],
   "source": [
    "y = nd.array([[1,2,3,4,5],[5,4,3,2,1]])\n",
    "y"
   ]
  },
  {
   "cell_type": "markdown",
   "metadata": {},
   "source": [
    "有些情况下，我们需要随机⽣成 NDArray 中每个元素的值。下⾯我们创建⼀个形状为（3，4）的\n",
    "NDArray。它的每个元素都随机采样于均值为 0 标准差为 1 的正态分布。"
   ]
  },
  {
   "cell_type": "code",
   "execution_count": 8,
   "metadata": {},
   "outputs": [
    {
     "data": {
      "text/plain": [
       "\n",
       "[[ 1.1630785   0.4838046   0.29956347  0.15302546]\n",
       " [-1.1688148   1.558071   -0.5459446  -2.3556297 ]\n",
       " [ 0.54144025  2.6785064   1.2546344  -0.54877406]]\n",
       "<NDArray 3x4 @cpu(0)>"
      ]
     },
     "execution_count": 8,
     "metadata": {},
     "output_type": "execute_result"
    }
   ],
   "source": [
    "nd.random.normal(0, 1, shape=(3, 4))"
   ]
  },
  {
   "cell_type": "markdown",
   "metadata": {},
   "source": [
    "### 运算 "
   ]
  },
  {
   "cell_type": "markdown",
   "metadata": {},
   "source": [
    "NDArray ⽀持⼤量的运算符（operator）。例如，我们可以对之前创建的两个形状为 (3, 4) 的 NDAr\u0002ray 做按元素加法。所得结果形状不变。"
   ]
  },
  {
   "cell_type": "code",
   "execution_count": 9,
   "metadata": {},
   "outputs": [
    {
     "data": {
      "text/plain": [
       "\n",
       "[[ 1.  3.  5.  7.  9.]\n",
       " [10. 10. 10. 10. 10.]]\n",
       "<NDArray 2x5 @cpu(0)>"
      ]
     },
     "execution_count": 9,
     "metadata": {},
     "output_type": "execute_result"
    }
   ],
   "source": [
    "x+y"
   ]
  },
  {
   "cell_type": "markdown",
   "metadata": {},
   "source": [
    "下面是按照元素的乘法和除法。"
   ]
  },
  {
   "cell_type": "code",
   "execution_count": 10,
   "metadata": {},
   "outputs": [
    {
     "data": {
      "text/plain": [
       "(\n",
       " [[ 0.  2.  6. 12. 20.]\n",
       "  [25. 24. 21. 16.  9.]]\n",
       " <NDArray 2x5 @cpu(0)>,\n",
       " \n",
       " [[0.        0.5       0.6666667 0.75      0.8      ]\n",
       "  [1.        1.5       2.3333333 4.        9.       ]]\n",
       " <NDArray 2x5 @cpu(0)>)"
      ]
     },
     "execution_count": 10,
     "metadata": {},
     "output_type": "execute_result"
    }
   ],
   "source": [
    "x*y,x/y"
   ]
  },
  {
   "cell_type": "markdown",
   "metadata": {},
   "source": [
    "按照元素除。"
   ]
  },
  {
   "cell_type": "code",
   "execution_count": 11,
   "metadata": {},
   "outputs": [
    {
     "data": {
      "text/plain": [
       "\n",
       "[[0.        0.5       0.6666667 0.75      0.8      ]\n",
       " [1.        1.5       2.3333333 4.        9.       ]]\n",
       "<NDArray 2x5 @cpu(0)>"
      ]
     },
     "execution_count": 11,
     "metadata": {},
     "output_type": "execute_result"
    }
   ],
   "source": [
    "x/y"
   ]
  },
  {
   "cell_type": "markdown",
   "metadata": {},
   "source": [
    "按照元素做指数运算。"
   ]
  },
  {
   "cell_type": "code",
   "execution_count": 12,
   "metadata": {},
   "outputs": [
    {
     "data": {
      "text/plain": [
       "\n",
       "[[  2.7182817   7.389056   20.085537   54.59815   148.41316  ]\n",
       " [148.41316    54.59815    20.085537    7.389056    2.7182817]]\n",
       "<NDArray 2x5 @cpu(0)>"
      ]
     },
     "execution_count": 12,
     "metadata": {},
     "output_type": "execute_result"
    }
   ],
   "source": [
    "y.exp()"
   ]
  },
  {
   "cell_type": "markdown",
   "metadata": {},
   "source": [
    "除去按元素计算外，我们可以做矩阵运算。下⾯将 x 与 y 的转置做矩阵乘法。由于 x 是 2 ⾏ 5\n",
    "列的矩阵，y 转置为 5 ⾏ 2 列的矩阵，两个矩阵相乘得到 2 ⾏ 2 列的矩阵。"
   ]
  },
  {
   "cell_type": "code",
   "execution_count": 13,
   "metadata": {},
   "outputs": [
    {
     "data": {
      "text/plain": [
       "\n",
       "[[ 40.  20.]\n",
       " [115.  95.]]\n",
       "<NDArray 2x2 @cpu(0)>"
      ]
     },
     "execution_count": 13,
     "metadata": {},
     "output_type": "execute_result"
    }
   ],
   "source": [
    "nd.dot(x,y.T)"
   ]
  },
  {
   "cell_type": "markdown",
   "metadata": {},
   "source": [
    "我们也可以将多个 NDArray 合并。下⾯分别在⾏上（维度 0，即形状中的最左边元素）和列上（维\n",
    "度 1，即形状中左起第⼆个元素）连结两个矩阵。"
   ]
  },
  {
   "cell_type": "code",
   "execution_count": 14,
   "metadata": {},
   "outputs": [
    {
     "data": {
      "text/plain": [
       "(\n",
       " [[0. 1. 2. 3. 4.]\n",
       "  [5. 6. 7. 8. 9.]\n",
       "  [1. 2. 3. 4. 5.]\n",
       "  [5. 4. 3. 2. 1.]]\n",
       " <NDArray 4x5 @cpu(0)>,\n",
       " \n",
       " [[0. 1. 2. 3. 4. 1. 2. 3. 4. 5.]\n",
       "  [5. 6. 7. 8. 9. 5. 4. 3. 2. 1.]]\n",
       " <NDArray 2x10 @cpu(0)>)"
      ]
     },
     "execution_count": 14,
     "metadata": {},
     "output_type": "execute_result"
    }
   ],
   "source": [
    "nd.concat(x, y, dim=0), nd.concat(x, y, dim=1)"
   ]
  },
  {
   "cell_type": "markdown",
   "metadata": {},
   "source": [
    "使⽤条件判断式可以得到元素为 0 或 1 的新的 NDArray。以 x == y 为例，如果 x 和 y 在相\n",
    "同位置的条件判断为真（值相等），那么新 NDArray 在相同位置的值为 1；反之为 0。"
   ]
  },
  {
   "cell_type": "code",
   "execution_count": 15,
   "metadata": {},
   "outputs": [
    {
     "data": {
      "text/plain": [
       "\n",
       "[[0. 0. 0. 0. 0.]\n",
       " [1. 0. 0. 0. 0.]]\n",
       "<NDArray 2x5 @cpu(0)>"
      ]
     },
     "execution_count": 15,
     "metadata": {},
     "output_type": "execute_result"
    }
   ],
   "source": [
    "x==y"
   ]
  },
  {
   "cell_type": "markdown",
   "metadata": {},
   "source": [
    "对 NDArray 中的所有元素求和得到只有⼀个元素的 NDArray,结果是一个只有一个元素的列表p[45.]，而不是一个简单的标量。要得到标量，可是使用asscalar函数。"
   ]
  },
  {
   "cell_type": "code",
   "execution_count": 16,
   "metadata": {},
   "outputs": [
    {
     "data": {
      "text/plain": [
       "(\n",
       " [45.]\n",
       " <NDArray 1 @cpu(0)>,\n",
       " 45.0)"
      ]
     },
     "execution_count": 16,
     "metadata": {},
     "output_type": "execute_result"
    }
   ],
   "source": [
    "x.sum(),x.sum().asscalar()"
   ]
  },
  {
   "cell_type": "markdown",
   "metadata": {},
   "source": [
    "### 广播机制 "
   ]
  },
  {
   "cell_type": "markdown",
   "metadata": {},
   "source": [
    "前⾯我们看到如何对两个形状相同的 NDArray 做按元素操作。当对两个形状不同的 NDArray 做\n",
    "同样操作时，可能会触发⼴播（broadcasting）机制：先适当复制元素使得这两个 NDArray 形状\n",
    "相同后再按元素操作。"
   ]
  },
  {
   "cell_type": "code",
   "execution_count": 17,
   "metadata": {},
   "outputs": [
    {
     "data": {
      "text/plain": [
       "(\n",
       " [[0.]\n",
       "  [1.]\n",
       "  [2.]]\n",
       " <NDArray 3x1 @cpu(0)>,\n",
       " \n",
       " [[0. 1.]]\n",
       " <NDArray 1x2 @cpu(0)>,\n",
       " \n",
       " [[0. 1.]\n",
       "  [1. 2.]\n",
       "  [2. 3.]]\n",
       " <NDArray 3x2 @cpu(0)>)"
      ]
     },
     "execution_count": 17,
     "metadata": {},
     "output_type": "execute_result"
    }
   ],
   "source": [
    "a = nd.arange(3).reshape((3, 1))\n",
    "b = nd.arange(2).reshape((1, 2))\n",
    "a, b,a+b"
   ]
  },
  {
   "cell_type": "markdown",
   "metadata": {},
   "source": [
    "由于 a 和 b 分别是 3 ⾏ 1 列和 1 ⾏ 2 列的矩阵，如果要计算 a+b，那么 a 中第⼀列的三个元\n",
    "素被⼴播（复制）到了第⼆列，而 b 中第⼀⾏的两个元素被⼴播（复制）到了第⼆⾏和第三⾏。\n",
    "如此，我们就可以对两个 3 ⾏ 2 列的矩阵按元素相加。"
   ]
  },
  {
   "cell_type": "markdown",
   "metadata": {},
   "source": [
    "### 索引 "
   ]
  },
  {
   "cell_type": "markdown",
   "metadata": {},
   "source": [
    "在 NDArray 中，索引（index）代表了元素的位置。NDArray 的索引从 0 开始逐⼀递增。例如⼀\n",
    "个 2 ⾏ 5 列的矩阵的⾏索引分别为 0、1 ，列索引分别为 0 、1、2、3、4。\n",
    "在下⾯的例⼦中，我们指定了 NDArray 的⾏索引截取范围 [0:1]。依据左闭右开指定范围的惯\n",
    "例，x[0:1]截取了矩阵 x 中⾏索引为 0的⾏,x[0:2,2:4]用行索引和列索引指定了x的一个区域。"
   ]
  },
  {
   "cell_type": "code",
   "execution_count": 18,
   "metadata": {},
   "outputs": [
    {
     "data": {
      "text/plain": [
       "(\n",
       " [[0. 1. 2. 3. 4.]]\n",
       " <NDArray 1x5 @cpu(0)>,\n",
       " \n",
       " [[2. 3.]\n",
       "  [7. 8.]]\n",
       " <NDArray 2x2 @cpu(0)>)"
      ]
     },
     "execution_count": 18,
     "metadata": {},
     "output_type": "execute_result"
    }
   ],
   "source": [
    "x[0:1],x[0:2,2:4]"
   ]
  },
  {
   "cell_type": "markdown",
   "metadata": {},
   "source": [
    "如果想要指定单个元素的位置，可以指定一个行索引和列索引,如 x[1,3]=10。也可以指定一个范围，一次性重设它们的值。"
   ]
  },
  {
   "cell_type": "code",
   "execution_count": 19,
   "metadata": {},
   "outputs": [
    {
     "data": {
      "text/plain": [
       "\n",
       "[[ 0.  1. 10. 10.  4.]\n",
       " [ 5.  6. 10. 10.  9.]]\n",
       "<NDArray 2x5 @cpu(0)>"
      ]
     },
     "execution_count": 19,
     "metadata": {},
     "output_type": "execute_result"
    }
   ],
   "source": [
    "x[0:2,2:4]=10\n",
    "x"
   ]
  },
  {
   "cell_type": "markdown",
   "metadata": {},
   "source": [
    "### 运行的内存开销 "
   ]
  },
  {
   "cell_type": "markdown",
   "metadata": {},
   "source": [
    "前⾯例⼦中，对每个操作都要新开内存来储存它的结果。例如y = x + y， 会为y新创建内存。如果现有的 NDArray 的值在之后的程序中不会复⽤，我们也可以⽤ x[:] = x + y 或者 x +=y 来减少运算的内存开销。"
   ]
  },
  {
   "cell_type": "markdown",
   "metadata": {},
   "source": [
    "### NDAyyar和NumPy互换 "
   ]
  },
  {
   "cell_type": "markdown",
   "metadata": {},
   "source": [
    "可以通过 array 和 asnumpy 函数令数据在 NDArray 和 NumPy 格式之间相互转换。下⾯将 NumPy 实例变换成 NDArray 实例。"
   ]
  },
  {
   "cell_type": "code",
   "execution_count": 20,
   "metadata": {},
   "outputs": [
    {
     "data": {
      "text/plain": [
       "\n",
       "[[1. 1. 1.]\n",
       " [1. 1. 1.]]\n",
       "<NDArray 2x3 @cpu(0)>"
      ]
     },
     "execution_count": 20,
     "metadata": {},
     "output_type": "execute_result"
    }
   ],
   "source": [
    "import numpy as np\n",
    "p = np.ones((2, 3))\n",
    "d = nd.array(p)\n",
    "d"
   ]
  },
  {
   "cell_type": "markdown",
   "metadata": {},
   "source": [
    "再将 NDArray 实例变换成 NumPy 实例。"
   ]
  },
  {
   "cell_type": "code",
   "execution_count": 21,
   "metadata": {},
   "outputs": [
    {
     "data": {
      "text/plain": [
       "array([[1., 1., 1.],\n",
       "       [1., 1., 1.]], dtype=float32)"
      ]
     },
     "execution_count": 21,
     "metadata": {},
     "output_type": "execute_result"
    }
   ],
   "source": [
    "d.asnumpy()"
   ]
  },
  {
   "cell_type": "markdown",
   "metadata": {},
   "source": [
    "## 自动求梯度"
   ]
  },
  {
   "cell_type": "markdown",
   "metadata": {},
   "source": [
    "在深度学习中，我们经常需要对函数求梯度（gradient）。本小节将介绍梯度上升法，并使⽤ MXNet 提供的 autograd包来⾃动求梯度。"
   ]
  },
  {
   "cell_type": "markdown",
   "metadata": {},
   "source": [
    "### 梯度上升法 "
   ]
  },
  {
   "cell_type": "markdown",
   "metadata": {},
   "source": [
    "梯度上升法是一种优化算法。其基本思想是，要找到某函数的最大值，最好的方法就是沿着该函数的梯度方向探寻。如果记梯度为$\\nabla$，函数$f(x_1,x_2)$的梯度由下式表示：$$\\left[\\begin{array} {cccc}\n",
    "\\frac{\\partial{f(x_1,x_2)}}{\\partial{x_1}}\\\\  \\frac{\\partial{f(x_1,x_2)}}{\\partial{x_2}}\\\\\n",
    "\\end{array} \\right] $$\n",
    "数学上，假设函数$f:\\Re^n\\rightarrow\\Re$的输入是一个$n$维变量， $ \\left[ \\begin{array} {cccc}\n",
    "x_1\\\\\n",
    "x_2\\\\\n",
    "\\ldots \\\\\n",
    "x_n\n",
    "\\end{array} \\right]$\n",
    "输出是标量，函数$f$有关$x$的梯度是一个由$n$个偏导数组成的向量：$$\\nabla_xf(x)=\\nabla f(x)= \\left[\\begin{array} {cccc}\n",
    "\\frac{\\partial{f(x)}}{\\partial{x_1}}\\\\  \\frac{\\partial{f(x)}}{\\partial{x_2}}\\\\ \\ldots \\\\ \\frac{\\partial{f(x)}}{\\partial{x_n}}\\\\\n",
    "\\end{array} \\right] $$\n",
    "假设$x$是一个向量，常见的梯度演算包括：$$\\nabla_xA^Tx=A,\\\\ \\nabla_x x^TA=A,\\\\\\nabla_x x^TAx=(A+A^T)x,\\\\ \\nabla_x\\parallel x \\parallel^2=\\nabla_xx^Tx=2x.$$\n",
    "类似地，假设$X$是一个矩阵，那么：$$\\nabla_X\\parallel x \\parallel_F ^2=2X.$$"
   ]
  },
  {
   "cell_type": "markdown",
   "metadata": {},
   "source": [
    "以函数$f(x_1,x_2)$为例，要求该函数的极值，使用梯度意味着，要沿$x_1$方向移动$\\frac{\\partial{f(x_1,x_2)}}{\\partial{x_1}}$，要沿$x_2$方向移动$\\frac{\\partial{f(x_1,x_2)}}{\\partial{x_2}}$。其中，函数$f(x_1,x_2)$要在带计算的点上有定义并且可微。"
   ]
  },
  {
   "cell_type": "markdown",
   "metadata": {},
   "source": [
    "梯度上升算法每次沿着梯度方向移动一步，每次移动总是朝着函数增长最快的方向。每次移动的多少称为一个步长，记为$a$，用向量来表示的话，梯度算法就是一个迭代公式：$$w=w+a\\nabla _wf(w)$$\n",
    "该函数一直被迭代执行，直到满足某个截至条件为止，比如达到指定的迭代次数或者算法达到某个允许的误差范围。"
   ]
  },
  {
   "cell_type": "markdown",
   "metadata": {},
   "source": [
    "### 梯度下降法 "
   ]
  },
  {
   "cell_type": "markdown",
   "metadata": {},
   "source": [
    "梯度上升法用来求函数的极大值，梯度下降法用来求函数的极小值。它们的迭代公式一样，只是梯度下降法中的加号变成了减号。通过符号的变换，求极大值就转换为求极小值。\n",
    "梯度下降算法是常用的算法。"
   ]
  },
  {
   "cell_type": "markdown",
   "metadata": {},
   "source": [
    "### 求梯度实例"
   ]
  },
  {
   "cell_type": "markdown",
   "metadata": {},
   "source": []
  },
  {
   "cell_type": "code",
   "execution_count": null,
   "metadata": {},
   "outputs": [],
   "source": []
  }
 ],
 "metadata": {
  "kernelspec": {
   "display_name": "Python 3",
   "language": "python",
   "name": "python3"
  },
  "language_info": {
   "codemirror_mode": {
    "name": "ipython",
    "version": 3
   },
   "file_extension": ".py",
   "mimetype": "text/x-python",
   "name": "python",
   "nbconvert_exporter": "python",
   "pygments_lexer": "ipython3",
   "version": "3.7.6"
  },
  "toc": {
   "base_numbering": 1,
   "nav_menu": {},
   "number_sections": true,
   "sideBar": true,
   "skip_h1_title": false,
   "title_cell": "Table of Contents",
   "title_sidebar": "Contents",
   "toc_cell": false,
   "toc_position": {},
   "toc_section_display": true,
   "toc_window_display": true
  }
 },
 "nbformat": 4,
 "nbformat_minor": 4
}
