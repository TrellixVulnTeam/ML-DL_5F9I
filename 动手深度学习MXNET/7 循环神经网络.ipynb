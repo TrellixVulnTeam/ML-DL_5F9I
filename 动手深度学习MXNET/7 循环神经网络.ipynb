{
 "cells": [
  {
   "cell_type": "markdown",
   "metadata": {},
   "source": [
    "# 7 循环神经网络\n",
    "与之前介绍的多层感知机和能有效处理空间信息的卷积神经网络不同，**循环神经网络是为更好地处理时序信息而设计的**。它引入状态变量来存储过去的信息，并用其与当前的输入共同决定当前的输出。\n",
    "\n",
    "循环神经网络**常用于处理序列数据**，如一段文字或声音、购物或观影的顺序，甚至是图像中的一行或一列像素。因此，循环神经网络有着极为广泛的实际应用，如语言模型、文本分类、机器翻译、语音识别、图像分析、手写识别和推荐系统。\n",
    "\n",
    "因为本章中的应用是基于语言模型的，所以我们将先介绍语言模型的基本概念，并由此激发循环神经网络的设计灵感。接着，我们将描述循环神经网络中的梯度计算方法，从而探究循环神经网络训练可能存在的问题。对于其中的部分问题，我们可以使用本章稍后介绍的**含门控的循环神经网络**来解决。最后，我们将拓展循环神经网络的架构。"
   ]
  },
  {
   "cell_type": "markdown",
   "metadata": {},
   "source": [
    "## 语言模型\n",
    "语言模型（language model）是自然语言处理的重要技术。自然语言处理中最常见的数据是文本数据。我们可以把一段自然语言文本看作一段离散的时间序列。假设一段长度为T的文本中的词依次为$w_1,w_2,\\dots,w_T$，那么在离散的时间序列中，$w_t,（1≤t≤T)$可看作在时间步（time step）t的输出或标签。给定一个长度为T的词的序列$w_1,w_2,\\dots,w_T$，语言模型将计算该序列的概率：$$P(w_1,w_2,\\dots,w_T).$$\n",
    "\n",
    "语言模型可用于提升语音识别和机器翻译的性能。例如，在语音识别中，给定一段“厨房里食油用完了”的语音，有可能会输出“厨房里食油用完了”和“厨房里石油用完了”这两个读音完全一样的文本序列。如果语言模型判断出前者的概率大于后者的概率，我们就可以根据相同读音的语音输出“厨房里食油用完了”的文本序列。在机器翻译中，如果对英文“you go first”逐词翻译成中文的话，可能得到“你走先”“你先走”等排列方式的文本序列。如果语言模型判断出“你先走”的概率大于其他排列方式的文本序列的概率，我们就可以把“you go first”翻译成“你先走”。\n",
    "### 语言模型的计算\n",
    "既然语言模型很有用，那该如何计算它呢？假设序列$w_1,w_2,\\dots,w_T$中的每个词是依次生成的，我们有$$P(w_1,w_2,\\dots,w_T)=\\prod_{t=1}^TP(w_t|w_1,w_2,\\dots,w_{t-1}).$$\n",
    "![jupyter]{./7-1.png}\n"
   ]
  }
 ],
 "metadata": {
  "kernelspec": {
   "display_name": "Python 3",
   "language": "python",
   "name": "python3"
  },
  "language_info": {
   "codemirror_mode": {
    "name": "ipython",
    "version": 3
   },
   "file_extension": ".py",
   "mimetype": "text/x-python",
   "name": "python",
   "nbconvert_exporter": "python",
   "pygments_lexer": "ipython3",
   "version": "3.7.6"
  },
  "toc": {
   "base_numbering": 1,
   "nav_menu": {},
   "number_sections": true,
   "sideBar": true,
   "skip_h1_title": false,
   "title_cell": "Table of Contents",
   "title_sidebar": "Contents",
   "toc_cell": false,
   "toc_position": {},
   "toc_section_display": true,
   "toc_window_display": false
  }
 },
 "nbformat": 4,
 "nbformat_minor": 4
}
